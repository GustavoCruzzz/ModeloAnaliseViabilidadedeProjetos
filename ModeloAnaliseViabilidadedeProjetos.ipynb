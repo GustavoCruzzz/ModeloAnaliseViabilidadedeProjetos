{
  "nbformat": 4,
  "nbformat_minor": 0,
  "metadata": {
    "colab": {
      "provenance": [],
      "authorship_tag": "ABX9TyOSgpIachE4uNzGnq4yaaOt",
      "include_colab_link": true
    },
    "kernelspec": {
      "name": "python3",
      "display_name": "Python 3"
    },
    "language_info": {
      "name": "python"
    }
  },
  "cells": [
    {
      "cell_type": "markdown",
      "metadata": {
        "id": "view-in-github",
        "colab_type": "text"
      },
      "source": [
        "<a href=\"https://colab.research.google.com/github/GustavoCruzzz/ModeloAnaliseViabilidadedeProjetos/blob/main/ModeloAnaliseViabilidadedeProjetos.ipynb\" target=\"_parent\"><img src=\"https://colab.research.google.com/assets/colab-badge.svg\" alt=\"Open In Colab\"/></a>"
      ]
    },
    {
      "cell_type": "code",
      "execution_count": null,
      "metadata": {
        "id": "MbXFlxeQK1Lj"
      },
      "outputs": [],
      "source": [
        "import pandas as pd\n",
        "from sklearn.model_selection import train_test_split\n",
        "from sklearn.linear_model import LogisticRegression\n",
        "from sklearn.preprocessing import StandardScaler\n",
        "from sklearn.metrics import classification_report\n",
        "import numpy as np\n",
        "import joblib\n",
        "import os"
      ]
    },
    {
      "cell_type": "code",
      "source": [
        "def train_or_predict(new_projects):\n",
        "  model_path = 'logistic_model.joblib'\n",
        "  if os.path.exists(model_path):\n",
        "    model = joblib.load(model_path)\n",
        "    scaler = joblib.load(model_path.replace(\".joblib\", \"_scaler.joblib\"))\n",
        "  else:\n",
        "    df_projects = pd.read_csv(\"projects_data.csv\")\n",
        "\n",
        "    x = df_projects[[\"investment\", \"expected_return\", \"impact_score\"]]\n",
        "    y = df_projects[\"viability\"]\n",
        "\n",
        "\n",
        "    scaler = StandardScaler()\n",
        "    X_scaled = scaler.fit_transform(x)\n",
        "\n",
        "    X_train, x_test, y_train, y_test = train_test_split(X_scaled, y, test_size=0.3, random_state=42)\n",
        "\n",
        "    model = LogisticRegression()\n",
        "    model.fit(X_train, y_train)\n",
        "\n",
        "    y_pred = model.predict(x_test)\n",
        "    report = classification_report(y_test, y_pred, output_dict=True)\n",
        "\n",
        "    joblib.dump(model, model_path)\n",
        "    joblib.dump(scaler, model_path.replace(\".joblib\", \"_scaler.joblib\"))\n",
        "    joblib.dump(report, model_path.replace(\".joblib\", \"_metrics.joblib\"))\n",
        "\n",
        "    if new_projects:\n",
        "      df_new_projects = pd.DataFrame(new_projects)\n",
        "\n",
        "      X_new_scaled = scaler.transform(df_new_projects)\n",
        "\n",
        "      predictions = model.predict(X_new_scaled)\n",
        "\n",
        "      probabilities = model.predict_proba(X_new_scaled)[:, 1]\n",
        "      df_new_projects[\"probability\"] = probabilities\n",
        "      df_new_projects[\"viability\"] = predictions\n",
        "\n",
        "      return df_new_projects, joblib.load(model_path.replace(\".joblib\", \"_metrics.joblib\"))\n",
        "\n",
        "      return None, joblib.load(model_path.replace(\".joblib\", \"_metrics.joblib\"))\n"
      ],
      "metadata": {
        "id": "SlqRBBZPLwo8"
      },
      "execution_count": null,
      "outputs": []
    },
    {
      "cell_type": "code",
      "source": [
        "new_projects = [{\"investment\": 13000, \"expected_return\": 69000, \"impact_score\": 7}]\n",
        "\n",
        "predictions, metrics = train_or_predict(new_projects)\n",
        "\n",
        "if predictions is not None:\n",
        "  print(\"\\nNovos Projetos e Viabilidade\")\n",
        "  print(predictions)\n",
        "\n",
        "  print(\"\\nMétricas do Modelo:\")\n",
        "  print(metrics)"
      ],
      "metadata": {
        "colab": {
          "base_uri": "https://localhost:8080/"
        },
        "id": "dN-oZrkcPkDq",
        "outputId": "e214a635-c3ac-48ac-f8ca-591df37eaf74"
      },
      "execution_count": null,
      "outputs": [
        {
          "output_type": "stream",
          "name": "stdout",
          "text": [
            "\n",
            "Novos Projetos e Viabilidade\n",
            "   investment  expected_return  impact_score  probability  viability\n",
            "0       13000            69000             7     0.729334          1\n",
            "\n",
            "Métricas do Modelo:\n",
            "{'0': {'precision': 0.8768472906403941, 'recall': 0.9128205128205128, 'f1-score': 0.8944723618090452, 'support': 195.0}, '1': {'precision': 0.8247422680412371, 'recall': 0.7619047619047619, 'f1-score': 0.7920792079207921, 'support': 105.0}, 'accuracy': 0.86, 'macro avg': {'precision': 0.8507947793408156, 'recall': 0.8373626373626373, 'f1-score': 0.8432757848649186, 'support': 300.0}, 'weighted avg': {'precision': 0.8586105327306891, 'recall': 0.86, 'f1-score': 0.8586347579481568, 'support': 300.0}}\n"
          ]
        }
      ]
    }
  ]
}